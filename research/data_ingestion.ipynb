{
 "cells": [
  {
   "cell_type": "code",
   "execution_count": 1,
   "metadata": {},
   "outputs": [],
   "source": [
    "import os"
   ]
  },
  {
   "cell_type": "code",
   "execution_count": 8,
   "metadata": {},
   "outputs": [],
   "source": [
    "os.chdir('../')"
   ]
  },
  {
   "cell_type": "code",
   "execution_count": 9,
   "metadata": {},
   "outputs": [
    {
     "data": {
      "text/plain": [
       "'e:\\\\Projects\\\\text-Summarization'"
      ]
     },
     "execution_count": 9,
     "metadata": {},
     "output_type": "execute_result"
    }
   ],
   "source": [
    "%pwd"
   ]
  },
  {
   "cell_type": "code",
   "execution_count": 19,
   "metadata": {},
   "outputs": [],
   "source": [
    "from dataclasses import dataclass\n",
    "from pathlib import Path    \n",
    "\n",
    "@dataclass(frozen=True)\n",
    "class DataIngestionConfig:\n",
    "    root_dir: Path\n",
    "    source_url: str\n",
    "    local_data_file: Path\n",
    "    unzip_dir: Path"
   ]
  },
  {
   "cell_type": "code",
   "execution_count": 20,
   "metadata": {},
   "outputs": [],
   "source": [
    "from textSummarizer.constants import CONFIG_FILE_PATH, PARAMS_FILE_PATH\n",
    "from textSummarizer.utils.common import read_yaml, create_dirs"
   ]
  },
  {
   "cell_type": "code",
   "execution_count": 21,
   "metadata": {},
   "outputs": [],
   "source": [
    "class ConfigurationManager:\n",
    "    def __init__(\n",
    "            self, \n",
    "            config_file_path = CONFIG_FILE_PATH,\n",
    "            params_file_path =  PARAMS_FILE_PATH\n",
    "    ):\n",
    "        self.config = read_yaml(config_file_path)\n",
    "        self.params = read_yaml(params_file_path)\n",
    "        create_dirs([self.config.artifacts_root])\n",
    "\n",
    "    def data_ingestion_config(self) -> DataIngestionConfig:\n",
    "\n",
    "        config = self.config.data_ingestion\n",
    "\n",
    "        create_dirs([config.root_dir])\n",
    "        \n",
    "        return DataIngestionConfig(\n",
    "            root_dir = config.root_dir,\n",
    "            source_url = config.source_URL,\n",
    "            local_data_file = config.local_data_file,\n",
    "            unzip_dir = config.unzip_dir\n",
    "        )"
   ]
  },
  {
   "cell_type": "code",
   "execution_count": 22,
   "metadata": {},
   "outputs": [],
   "source": [
    "import os\n",
    "import zipfile\n",
    "import urllib.request as request\n",
    "from textSummarizer.logging import logger\n",
    "from textSummarizer.utils.common import get_size"
   ]
  },
  {
   "cell_type": "code",
   "execution_count": 23,
   "metadata": {},
   "outputs": [],
   "source": [
    "class DataIngestion:\n",
    "    def __init__(self, config: DataIngestionConfig):\n",
    "        self.config = config\n",
    "\n",
    "    def download_file(self):\n",
    "        if not os.path.exists(self.config.local_data_file):\n",
    "            url, headers = request.urlretrieve(\n",
    "                url=self.config.source_url,\n",
    "                filename=self.config.local_data_file\n",
    "            )\n",
    "            logger.info(f\"Downloaded file from {url} to {self.config.local_data_file}\")\n",
    "        else:\n",
    "            logger.info(f\"File already exists at {self.config.local_data_file}\")\n",
    "\n",
    "    def unzip_file(self):\n",
    "        uzip_path = self.config.unzip_dir\n",
    "        with zipfile.ZipFile(self.config.local_data_file, 'r') as zip_ref:\n",
    "            zip_ref.extractall(uzip_path)   "
   ]
  },
  {
   "cell_type": "code",
   "execution_count": 24,
   "metadata": {},
   "outputs": [
    {
     "name": "stdout",
     "output_type": "stream",
     "text": [
      "[2024-09-14 02:09:34,899: INFO: common: Read yaml file from config\\config.yaml]\n",
      "[2024-09-14 02:09:34,902: INFO: common: Read yaml file from params.yaml]\n",
      "[2024-09-14 02:09:34,905: INFO: common: Created directory artifacts]\n",
      "[2024-09-14 02:09:34,907: INFO: common: Created directory artifacts/data_ingestion]\n",
      "[2024-09-14 02:09:40,365: INFO: 3045281734: Downloaded file from artifacts/data_ingestion/data.zip to artifacts/data_ingestion/data.zip]\n"
     ]
    }
   ],
   "source": [
    "try:\n",
    "    config = ConfigurationManager()\n",
    "    data_ingestion_config = config.data_ingestion_config()\n",
    "    data_ingestion = DataIngestion(data_ingestion_config)\n",
    "    data_ingestion.download_file()\n",
    "    data_ingestion.unzip_file()\n",
    "except Exception as e:\n",
    "    print(e)"
   ]
  }
 ],
 "metadata": {
  "kernelspec": {
   "display_name": "Python 3",
   "language": "python",
   "name": "python3"
  },
  "language_info": {
   "codemirror_mode": {
    "name": "ipython",
    "version": 3
   },
   "file_extension": ".py",
   "mimetype": "text/x-python",
   "name": "python",
   "nbconvert_exporter": "python",
   "pygments_lexer": "ipython3",
   "version": "3.8.0"
  }
 },
 "nbformat": 4,
 "nbformat_minor": 2
}
